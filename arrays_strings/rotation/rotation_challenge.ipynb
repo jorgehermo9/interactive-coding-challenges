{
 "cells": [
  {
   "cell_type": "markdown",
   "source": [
    "This notebook was prepared by [Donne Martin](http://donnemartin.com). Source and license info is on [GitHub](https://github.com/donnemartin/interactive-coding-challenges)."
   ],
   "metadata": {}
  },
  {
   "cell_type": "markdown",
   "source": [
    "# Challenge Notebook"
   ],
   "metadata": {}
  },
  {
   "cell_type": "markdown",
   "source": [
    "## Problem: Determine if a string s1 is a rotation of another string s2, by calling (only once) a function is_substring.\n",
    "\n",
    "* [Constraints](#Constraints)\n",
    "* [Test Cases](#Test-Cases)\n",
    "* [Algorithm](#Algorithm)\n",
    "* [Code](#Code)\n",
    "* [Unit Test](#Unit-Test)\n",
    "* [Solution Notebook](#Solution-Notebook)"
   ],
   "metadata": {}
  },
  {
   "cell_type": "markdown",
   "source": [
    "## Constraints\n",
    "\n",
    "* Can we assume the string is ASCII?\n",
    "    * Yes\n",
    "    * Note: Unicode strings could require special handling depending on your language\n",
    "* Is this case sensitive?\n",
    "    * Yes\n",
    "* Can we use additional data structures?  \n",
    "    * Yes\n",
    "* Can we assume this fits in memory?\n",
    "    * Yes"
   ],
   "metadata": {}
  },
  {
   "cell_type": "markdown",
   "source": [
    "## Test Cases\n",
    "\n",
    "* Any strings that differ in size -> False\n",
    "* None, 'foo' -> False (any None results in False)\n",
    "* ' ', 'foo' -> False\n",
    "* ' ', ' ' -> True\n",
    "* 'foobarbaz', 'barbazfoo' -> True"
   ],
   "metadata": {}
  },
  {
   "cell_type": "markdown",
   "source": [
    "## Algorithm\n",
    "\n",
    "Refer to the [Solution Notebook](http://nbviewer.ipython.org/github/donnemartin/interactive-coding-challenges/blob/master/arrays_strings/rotation/rotation_solution.ipynb).  If you are stuck and need a hint, the solution notebook's algorithm discussion might be a good place to start."
   ],
   "metadata": {}
  },
  {
   "cell_type": "markdown",
   "source": [
    "## Code"
   ],
   "metadata": {}
  },
  {
   "cell_type": "code",
   "execution_count": 16,
   "source": [
    "class Rotation(object):\n",
    "\n",
    "    def is_substring(self, s1, s2):\n",
    "        if s1 in s2: return True\n",
    "        else: return False\n",
    "\n",
    "    def is_rotation(self, s1, s2):\n",
    "        if s1 is None or s2 is None: return False\n",
    "        if len(s1) != len(s2): return False\n",
    "        size = len(s1)\n",
    "        for i in range(size):\n",
    "            if not self.is_substring(s1[:i+1],s2):\n",
    "                if s1[i:]+s1[:i] == s2:return True\n",
    "                else: return False\n",
    "        return True"
   ],
   "outputs": [],
   "metadata": {}
  },
  {
   "cell_type": "markdown",
   "source": [
    "## Unit Test"
   ],
   "metadata": {}
  },
  {
   "cell_type": "markdown",
   "source": [
    "\n",
    "\n",
    "**The following unit test is expected to fail until you solve the challenge.**"
   ],
   "metadata": {}
  },
  {
   "cell_type": "code",
   "execution_count": 17,
   "source": [
    "# %load test_rotation.py\n",
    "import unittest\n",
    "\n",
    "\n",
    "class TestRotation(unittest.TestCase):\n",
    "\n",
    "    def test_rotation(self):\n",
    "        rotation = Rotation()\n",
    "        self.assertEqual(rotation.is_rotation('o', 'oo'), False)\n",
    "        self.assertEqual(rotation.is_rotation(None, 'foo'), False)\n",
    "        self.assertEqual(rotation.is_rotation('', 'foo'), False)\n",
    "        self.assertEqual(rotation.is_rotation('', ''), True)\n",
    "        self.assertEqual(rotation.is_rotation('foobarbaz', 'barbazfoo'), True)\n",
    "        print('Success: test_rotation')\n",
    "\n",
    "\n",
    "def main():\n",
    "    test = TestRotation()\n",
    "    test.test_rotation()\n",
    "\n",
    "\n",
    "if __name__ == '__main__':\n",
    "    main()"
   ],
   "outputs": [
    {
     "output_type": "stream",
     "name": "stdout",
     "text": [
      "Success: test_rotation\n"
     ]
    }
   ],
   "metadata": {}
  },
  {
   "cell_type": "markdown",
   "source": [
    "## Solution Notebook\n",
    "\n",
    "Review the [Solution Notebook](http://nbviewer.ipython.org/github/donnemartin/interactive-coding-challenges/blob/master/arrays_strings/rotation/rotation_solution.ipynb) for a discussion on algorithms and code solutions."
   ],
   "metadata": {}
  }
 ],
 "metadata": {
  "kernelspec": {
   "name": "python3",
   "display_name": "Python 3.8.10 64-bit"
  },
  "language_info": {
   "codemirror_mode": {
    "name": "ipython",
    "version": 3
   },
   "file_extension": ".py",
   "mimetype": "text/x-python",
   "name": "python",
   "nbconvert_exporter": "python",
   "pygments_lexer": "ipython3",
   "version": "3.9.5"
  },
  "interpreter": {
   "hash": "916dbcbb3f70747c44a77c7bcd40155683ae19c65e1c03b4aa3499c5328201f1"
  }
 },
 "nbformat": 4,
 "nbformat_minor": 1
}