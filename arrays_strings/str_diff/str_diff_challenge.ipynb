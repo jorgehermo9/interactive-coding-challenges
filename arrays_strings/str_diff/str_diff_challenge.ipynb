{
 "cells": [
  {
   "cell_type": "markdown",
   "source": [
    "This notebook was prepared by [Donne Martin](https://github.com/donnemartin). Source and license info is on [GitHub](https://github.com/donnemartin/interactive-coding-challenges)."
   ],
   "metadata": {}
  },
  {
   "cell_type": "markdown",
   "source": [
    "# Challenge Notebook"
   ],
   "metadata": {}
  },
  {
   "cell_type": "markdown",
   "source": [
    "## Problem: Find the single different char between two strings.\n",
    "\n",
    "* [Constraints](#Constraints)\n",
    "* [Test Cases](#Test-Cases)\n",
    "* [Algorithm](#Algorithm)\n",
    "* [Code](#Code)\n",
    "* [Unit Test](#Unit-Test)\n",
    "* [Solution Notebook](#Solution-Notebook)"
   ],
   "metadata": {}
  },
  {
   "cell_type": "markdown",
   "source": [
    "## Constraints\n",
    "\n",
    "* Can we assume the strings are ASCII?\n",
    "    * Yes\n",
    "* Is case important?\n",
    "    * The strings are lower case\n",
    "* Can we assume the inputs are valid?\n",
    "    * No, check for None\n",
    "    * Otherwise, assume there is only a single different char between the two strings\n",
    "* Can we assume this fits memory?\n",
    "    * Yes"
   ],
   "metadata": {}
  },
  {
   "cell_type": "markdown",
   "source": [
    "## Test Cases\n",
    "\n",
    "* None input -> TypeError\n",
    "* 'ab', 'aab' -> 'a'\n",
    "* 'aab', 'ab' -> 'a'\n",
    "* 'abcd', 'abcde' -> 'e'\n",
    "* 'aaabbcdd', 'abdbacade' -> 'e'"
   ],
   "metadata": {}
  },
  {
   "cell_type": "markdown",
   "source": [
    "## Algorithm\n",
    "\n",
    "Refer to the [Solution Notebook](str_diff_solution.ipynb).  If you are stuck and need a hint, the solution notebook's algorithm discussion might be a good place to start."
   ],
   "metadata": {}
  },
  {
   "cell_type": "markdown",
   "source": [
    "## Code"
   ],
   "metadata": {}
  },
  {
   "cell_type": "code",
   "execution_count": 24,
   "source": [
    "class Solution(object):\n",
    "\n",
    "    def find_diff(self, str1, str2):\n",
    "        if str1 is None or str2 is None:raise TypeError(\"error None\")\n",
    "        aux = str(str2)\n",
    "        for char in str1:\n",
    "            if char not in aux:\n",
    "                return char\n",
    "            else:\n",
    "                aux = aux.replace(char,\"\",1)\n",
    "        return aux[0]\n",
    "    def find_diff_xor(self, str1, str2):\n",
    "        if str1 is None or str2 is None:raise TypeError(\"error None\")\n",
    "        result=0\n",
    "        for char in str1:\n",
    "            result ^= ord(char)\n",
    "        for char in str2:\n",
    "            result ^= ord(char)\n",
    "        return chr(result)"
   ],
   "outputs": [],
   "metadata": {}
  },
  {
   "cell_type": "markdown",
   "source": [
    "## Unit Test"
   ],
   "metadata": {}
  },
  {
   "cell_type": "markdown",
   "source": [
    "**The following unit test is expected to fail until you solve the challenge.**"
   ],
   "metadata": {}
  },
  {
   "cell_type": "code",
   "execution_count": 25,
   "source": [
    "# %load test_str_diff.py\n",
    "import unittest\n",
    "\n",
    "\n",
    "class TestFindDiff(unittest.TestCase):\n",
    "\n",
    "    def test_find_diff(self):\n",
    "        solution = Solution()\n",
    "        self.assertRaises(TypeError, solution.find_diff, None)\n",
    "        self.assertEqual(solution.find_diff('ab', 'aab'), 'a')\n",
    "        self.assertEqual(solution.find_diff('aab', 'ab'), 'a')\n",
    "        self.assertEqual(solution.find_diff('abcd', 'abcde'), 'e')\n",
    "        self.assertEqual(solution.find_diff('aaabbcdd', 'abdbacade'), 'e')\n",
    "        self.assertEqual(solution.find_diff_xor('ab', 'aab'), 'a')\n",
    "        self.assertEqual(solution.find_diff_xor('aab', 'ab'), 'a')\n",
    "        self.assertEqual(solution.find_diff_xor('abcd', 'abcde'), 'e')\n",
    "        self.assertEqual(solution.find_diff_xor('aaabbcdd', 'abdbacade'), 'e')\n",
    "        print('Success: test_find_diff')\n",
    "\n",
    "\n",
    "def main():\n",
    "    test = TestFindDiff()\n",
    "    test.test_find_diff()\n",
    "\n",
    "\n",
    "if __name__ == '__main__':\n",
    "    main()"
   ],
   "outputs": [
    {
     "output_type": "error",
     "ename": "TypeError",
     "evalue": "'str' object is not callable",
     "traceback": [
      "\u001b[0;31m---------------------------------------------------------------------------\u001b[0m",
      "\u001b[0;31mTypeError\u001b[0m                                 Traceback (most recent call last)",
      "\u001b[0;32m/tmp/ipykernel_7608/3076631344.py\u001b[0m in \u001b[0;36m<module>\u001b[0;34m\u001b[0m\n\u001b[1;32m     25\u001b[0m \u001b[0;34m\u001b[0m\u001b[0m\n\u001b[1;32m     26\u001b[0m \u001b[0;32mif\u001b[0m \u001b[0m__name__\u001b[0m \u001b[0;34m==\u001b[0m \u001b[0;34m'__main__'\u001b[0m\u001b[0;34m:\u001b[0m\u001b[0;34m\u001b[0m\u001b[0;34m\u001b[0m\u001b[0m\n\u001b[0;32m---> 27\u001b[0;31m     \u001b[0mmain\u001b[0m\u001b[0;34m(\u001b[0m\u001b[0;34m)\u001b[0m\u001b[0;34m\u001b[0m\u001b[0;34m\u001b[0m\u001b[0m\n\u001b[0m",
      "\u001b[0;32m/tmp/ipykernel_7608/3076631344.py\u001b[0m in \u001b[0;36mmain\u001b[0;34m()\u001b[0m\n\u001b[1;32m     21\u001b[0m \u001b[0;32mdef\u001b[0m \u001b[0mmain\u001b[0m\u001b[0;34m(\u001b[0m\u001b[0;34m)\u001b[0m\u001b[0;34m:\u001b[0m\u001b[0;34m\u001b[0m\u001b[0;34m\u001b[0m\u001b[0m\n\u001b[1;32m     22\u001b[0m     \u001b[0mtest\u001b[0m \u001b[0;34m=\u001b[0m \u001b[0mTestFindDiff\u001b[0m\u001b[0;34m(\u001b[0m\u001b[0;34m)\u001b[0m\u001b[0;34m\u001b[0m\u001b[0;34m\u001b[0m\u001b[0m\n\u001b[0;32m---> 23\u001b[0;31m     \u001b[0mtest\u001b[0m\u001b[0;34m.\u001b[0m\u001b[0mtest_find_diff\u001b[0m\u001b[0;34m(\u001b[0m\u001b[0;34m)\u001b[0m\u001b[0;34m\u001b[0m\u001b[0;34m\u001b[0m\u001b[0m\n\u001b[0m\u001b[1;32m     24\u001b[0m \u001b[0;34m\u001b[0m\u001b[0m\n\u001b[1;32m     25\u001b[0m \u001b[0;34m\u001b[0m\u001b[0m\n",
      "\u001b[0;32m/tmp/ipykernel_7608/3076631344.py\u001b[0m in \u001b[0;36mtest_find_diff\u001b[0;34m(self)\u001b[0m\n\u001b[1;32m     12\u001b[0m         \u001b[0mself\u001b[0m\u001b[0;34m.\u001b[0m\u001b[0massertEqual\u001b[0m\u001b[0;34m(\u001b[0m\u001b[0msolution\u001b[0m\u001b[0;34m.\u001b[0m\u001b[0mfind_diff\u001b[0m\u001b[0;34m(\u001b[0m\u001b[0;34m'abcd'\u001b[0m\u001b[0;34m,\u001b[0m \u001b[0;34m'abcde'\u001b[0m\u001b[0;34m)\u001b[0m\u001b[0;34m,\u001b[0m \u001b[0;34m'e'\u001b[0m\u001b[0;34m)\u001b[0m\u001b[0;34m\u001b[0m\u001b[0;34m\u001b[0m\u001b[0m\n\u001b[1;32m     13\u001b[0m         \u001b[0mself\u001b[0m\u001b[0;34m.\u001b[0m\u001b[0massertEqual\u001b[0m\u001b[0;34m(\u001b[0m\u001b[0msolution\u001b[0m\u001b[0;34m.\u001b[0m\u001b[0mfind_diff\u001b[0m\u001b[0;34m(\u001b[0m\u001b[0;34m'aaabbcdd'\u001b[0m\u001b[0;34m,\u001b[0m \u001b[0;34m'abdbacade'\u001b[0m\u001b[0;34m)\u001b[0m\u001b[0;34m,\u001b[0m \u001b[0;34m'e'\u001b[0m\u001b[0;34m)\u001b[0m\u001b[0;34m\u001b[0m\u001b[0;34m\u001b[0m\u001b[0m\n\u001b[0;32m---> 14\u001b[0;31m         \u001b[0mself\u001b[0m\u001b[0;34m.\u001b[0m\u001b[0massertEqual\u001b[0m\u001b[0;34m(\u001b[0m\u001b[0msolution\u001b[0m\u001b[0;34m.\u001b[0m\u001b[0mfind_diff_xor\u001b[0m\u001b[0;34m(\u001b[0m\u001b[0;34m'ab'\u001b[0m\u001b[0;34m,\u001b[0m \u001b[0;34m'aab'\u001b[0m\u001b[0;34m)\u001b[0m\u001b[0;34m,\u001b[0m \u001b[0;34m'a'\u001b[0m\u001b[0;34m)\u001b[0m\u001b[0;34m\u001b[0m\u001b[0;34m\u001b[0m\u001b[0m\n\u001b[0m\u001b[1;32m     15\u001b[0m         \u001b[0mself\u001b[0m\u001b[0;34m.\u001b[0m\u001b[0massertEqual\u001b[0m\u001b[0;34m(\u001b[0m\u001b[0msolution\u001b[0m\u001b[0;34m.\u001b[0m\u001b[0mfind_diff_xor\u001b[0m\u001b[0;34m(\u001b[0m\u001b[0;34m'aab'\u001b[0m\u001b[0;34m,\u001b[0m \u001b[0;34m'ab'\u001b[0m\u001b[0;34m)\u001b[0m\u001b[0;34m,\u001b[0m \u001b[0;34m'a'\u001b[0m\u001b[0;34m)\u001b[0m\u001b[0;34m\u001b[0m\u001b[0;34m\u001b[0m\u001b[0m\n\u001b[1;32m     16\u001b[0m         \u001b[0mself\u001b[0m\u001b[0;34m.\u001b[0m\u001b[0massertEqual\u001b[0m\u001b[0;34m(\u001b[0m\u001b[0msolution\u001b[0m\u001b[0;34m.\u001b[0m\u001b[0mfind_diff_xor\u001b[0m\u001b[0;34m(\u001b[0m\u001b[0;34m'abcd'\u001b[0m\u001b[0;34m,\u001b[0m \u001b[0;34m'abcde'\u001b[0m\u001b[0;34m)\u001b[0m\u001b[0;34m,\u001b[0m \u001b[0;34m'e'\u001b[0m\u001b[0;34m)\u001b[0m\u001b[0;34m\u001b[0m\u001b[0;34m\u001b[0m\u001b[0m\n",
      "\u001b[0;32m/tmp/ipykernel_7608/2024340942.py\u001b[0m in \u001b[0;36mfind_diff_xor\u001b[0;34m(self, str1, str2)\u001b[0m\n\u001b[1;32m     17\u001b[0m         \u001b[0;32mfor\u001b[0m \u001b[0mchar\u001b[0m \u001b[0;32min\u001b[0m \u001b[0mstr2\u001b[0m\u001b[0;34m:\u001b[0m\u001b[0;34m\u001b[0m\u001b[0;34m\u001b[0m\u001b[0m\n\u001b[1;32m     18\u001b[0m             \u001b[0mresult\u001b[0m \u001b[0;34m^=\u001b[0m \u001b[0mord\u001b[0m\u001b[0;34m(\u001b[0m\u001b[0mchar\u001b[0m\u001b[0;34m)\u001b[0m\u001b[0;34m\u001b[0m\u001b[0;34m\u001b[0m\u001b[0m\n\u001b[0;32m---> 19\u001b[0;31m         \u001b[0;32mreturn\u001b[0m \u001b[0mchar\u001b[0m\u001b[0;34m(\u001b[0m\u001b[0mresult\u001b[0m\u001b[0;34m)\u001b[0m\u001b[0;34m\u001b[0m\u001b[0;34m\u001b[0m\u001b[0m\n\u001b[0m",
      "\u001b[0;31mTypeError\u001b[0m: 'str' object is not callable"
     ]
    }
   ],
   "metadata": {}
  },
  {
   "cell_type": "markdown",
   "source": [
    "## Solution Notebook\n",
    "\n",
    "Review the [Solution Notebook](http://nbviewer.jupyter.org/github/donnemartin/interactive-coding-challenges/blob/master/arrays_strings/str_diff/str_diff_solution.ipynb) for a discussion on algorithms and code solutions."
   ],
   "metadata": {}
  }
 ],
 "metadata": {
  "kernelspec": {
   "name": "python3",
   "display_name": "Python 3.8.10 64-bit"
  },
  "language_info": {
   "codemirror_mode": {
    "name": "ipython",
    "version": 3
   },
   "file_extension": ".py",
   "mimetype": "text/x-python",
   "name": "python",
   "nbconvert_exporter": "python",
   "pygments_lexer": "ipython3",
   "version": "3.9.5"
  },
  "interpreter": {
   "hash": "916dbcbb3f70747c44a77c7bcd40155683ae19c65e1c03b4aa3499c5328201f1"
  }
 },
 "nbformat": 4,
 "nbformat_minor": 1
}