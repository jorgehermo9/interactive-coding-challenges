{
 "cells": [
  {
   "cell_type": "markdown",
   "source": [
    "This notebook was prepared by [Donne Martin](https://github.com/donnemartin). Source and license info is on [GitHub](https://github.com/donnemartin/interactive-coding-challenges)."
   ],
   "metadata": {}
  },
  {
   "cell_type": "markdown",
   "source": [
    "# Challenge Notebook"
   ],
   "metadata": {}
  },
  {
   "cell_type": "markdown",
   "source": [
    "## Problem: Given an array, find the two indices that sum to a specific value.\n",
    "\n",
    "* [Constraints](#Constraints)\n",
    "* [Test Cases](#Test-Cases)\n",
    "* [Algorithm](#Algorithm)\n",
    "* [Code](#Code)\n",
    "* [Unit Test](#Unit-Test)\n",
    "* [Solution Notebook](#Solution-Notebook)"
   ],
   "metadata": {}
  },
  {
   "cell_type": "markdown",
   "source": [
    "## Constraints\n",
    "\n",
    "* Is there exactly one solution?\n",
    "    * Yes\n",
    "* Is there always a solution?\n",
    "    * Yes\n",
    "* Is the array an array of ints?\n",
    "    * Yes\n",
    "* Is the array sorted?\n",
    "    No\n",
    "* Are negative values possible?\n",
    "    * Yes\n",
    "* Can we assume the inputs are valid?\n",
    "    * No\n",
    "* Can we assume this fits memory?\n",
    "    * Yes"
   ],
   "metadata": {}
  },
  {
   "cell_type": "markdown",
   "source": [
    "## Test Cases\n",
    "\n",
    "* None input -> TypeError\n",
    "* [] -> ValueError\n",
    "* [1, 3, 2, -7, 5], 7 -> [2, 4]"
   ],
   "metadata": {}
  },
  {
   "cell_type": "markdown",
   "source": [
    "## Algorithm\n",
    "\n",
    "Refer to the [Solution Notebook]().  If you are stuck and need a hint, the solution notebook's algorithm discussion might be a good place to start."
   ],
   "metadata": {}
  },
  {
   "cell_type": "markdown",
   "source": [
    "## Code"
   ],
   "metadata": {}
  },
  {
   "cell_type": "code",
   "execution_count": 3,
   "source": [
    "class Solution(object):\n",
    "\n",
    "    def two_sum(self, nums, val):\n",
    "        if (nums is None or val is None):raise TypeError(\"error\")\n",
    "        if (nums ==[]):raise ValueError(\"error\")\n",
    "        cache={}\n",
    "        for index,num in enumerate(nums):\n",
    "            target= val-num\n",
    "            if num in cache:\n",
    "                return [cache[num],index]\n",
    "            else: cache[target]=index\n",
    "    "
   ],
   "outputs": [],
   "metadata": {}
  },
  {
   "cell_type": "markdown",
   "source": [
    "## Unit Test"
   ],
   "metadata": {}
  },
  {
   "cell_type": "markdown",
   "source": [
    "**The following unit test is expected to fail until you solve the challenge.**"
   ],
   "metadata": {}
  },
  {
   "cell_type": "code",
   "execution_count": 4,
   "source": [
    "# %load test_two_sum.py\n",
    "import unittest\n",
    "\n",
    "\n",
    "class TestTwoSum(unittest.TestCase):\n",
    "\n",
    "    def test_two_sum(self):\n",
    "        solution = Solution()\n",
    "        self.assertRaises(TypeError, solution.two_sum, None, None)\n",
    "        self.assertRaises(ValueError, solution.two_sum, [], 0)\n",
    "        target = 7\n",
    "        nums = [1, 3, 2, -7, 5]\n",
    "        expected = [2, 4]\n",
    "        self.assertEqual(solution.two_sum(nums, target), expected)\n",
    "        print('Success: test_two_sum')\n",
    "\n",
    "\n",
    "def main():\n",
    "    test = TestTwoSum()\n",
    "    test.test_two_sum()\n",
    "\n",
    "\n",
    "if __name__ == '__main__':\n",
    "    main()"
   ],
   "outputs": [
    {
     "output_type": "stream",
     "name": "stdout",
     "text": [
      "Success: test_two_sum\n"
     ]
    }
   ],
   "metadata": {}
  },
  {
   "cell_type": "markdown",
   "source": [
    "## Solution Notebook\n",
    "\n",
    "Review the [Solution Notebook]() for a discussion on algorithms and code solutions."
   ],
   "metadata": {}
  }
 ],
 "metadata": {
  "kernelspec": {
   "name": "python3",
   "display_name": "Python 3.8.10 64-bit"
  },
  "language_info": {
   "codemirror_mode": {
    "name": "ipython",
    "version": 3
   },
   "file_extension": ".py",
   "mimetype": "text/x-python",
   "name": "python",
   "nbconvert_exporter": "python",
   "pygments_lexer": "ipython3",
   "version": "3.9.5"
  },
  "interpreter": {
   "hash": "916dbcbb3f70747c44a77c7bcd40155683ae19c65e1c03b4aa3499c5328201f1"
  }
 },
 "nbformat": 4,
 "nbformat_minor": 1
}